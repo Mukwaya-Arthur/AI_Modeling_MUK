{
  "nbformat": 4,
  "nbformat_minor": 0,
  "metadata": {
    "colab": {
      "provenance": [],
      "include_colab_link": true
    },
    "kernelspec": {
      "name": "python3",
      "display_name": "Python 3"
    },
    "language_info": {
      "name": "python"
    }
  },
  "cells": [
    {
      "cell_type": "markdown",
      "metadata": {
        "id": "view-in-github",
        "colab_type": "text"
      },
      "source": [
        "<a href=\"https://colab.research.google.com/github/Mukwaya-Arthur/AI_Modeling_MUK/blob/main/Copy_of_Python_Practical_1.ipynb\" target=\"_parent\"><img src=\"https://colab.research.google.com/assets/colab-badge.svg\" alt=\"Open In Colab\"/></a>"
      ]
    },
    {
      "cell_type": "markdown",
      "source": [
        "# **Python Programming for Machine Learning**"
      ],
      "metadata": {
        "id": "qHOOObDwMfkc"
      }
    },
    {
      "cell_type": "markdown",
      "source": [
        "**Guidelines:**\n",
        "\n",
        "Save a copy of this Notebook to your drive and work and share after to your github account.\n",
        "\n",
        "Powerpoint: [Download](https://drive.google.com/file/d/1ut8RJ44qjfM4uSX9QyKZ4dIO2AzKPNun/view?usp=share_link)\n",
        "\n",
        "1. Read the instructions carefully before attempting each exercise.\n",
        "2. Make sure to test your code with different input values to ensure it works as expected.\n",
        "3. Use appropriate variable names and comments to make your code easy to understand.\n",
        "4. If you're unsure how to solve an exercise, try breaking it down into smaller parts and tackling each part separately.\n",
        "5. Feel free to use online resources or ask for help if you get stuck.\n",
        "\n",
        "\n",
        "\n",
        "**Warnings:**\n",
        "\n",
        "1. Be careful when using user input, as it may not always be in the expected format. Make sure to handle errors and invalid input appropriately.\n",
        "\n",
        "2. When working with floats, be aware that floating point arithmetic can sometimes result in rounding errors or unexpected behavior.\n",
        "Be careful when swapping values in Exercise 8, as you may accidentally overwrite one of the values.\n",
        "\n",
        "3. When checking if a string contains a certain substring in Exercise 14, be aware that the function you use may be case-sensitive.\n",
        "\n",
        "4. Be careful when checking if the difference of two floats is less than a threshold in Exercise 13, as floating point arithmetic may result in unexpected behavior.\n",
        "\n",
        "5. Comment on your work for better understanding."
      ],
      "metadata": {
        "id": "0ipwIDxyLzEN"
      }
    },
    {
      "cell_type": "markdown",
      "source": [
        "Write a program that takes an integer input from the user and prints out its square."
      ],
      "metadata": {
        "id": "0DjsAF5JMpI4"
      }
    },
    {
      "cell_type": "code",
      "execution_count": null,
      "metadata": {
        "id": "nIcy1W69LnNx",
        "colab": {
          "base_uri": "https://localhost:8080/"
        },
        "outputId": "69cb652e-f229-4f49-86e6-0cdadd0f908d"
      },
      "outputs": [
        {
          "output_type": "stream",
          "name": "stdout",
          "text": [
            "Enter a number4\n",
            "The Square 4 is: 16\n"
          ]
        }
      ],
      "source": [
        "# Getting integers to printing\n",
        "a = int(input(\"Enter a number\"))\n",
        "square = a ** 2 \n",
        "print('The Square', a , 'is:', square)"
      ]
    },
    {
      "cell_type": "markdown",
      "source": [
        "Write a program that takes two integer inputs from the user and prints out their sum, difference, product, and quotient."
      ],
      "metadata": {
        "id": "Tj6gWJ-TMv66"
      }
    },
    {
      "cell_type": "code",
      "source": [
        "## Getting two integers\n",
        "# consider two integers of 4 and 6\n",
        "# Input two integer numbers\n",
        "num1 = int(input('Enter first number:'))\n",
        "num2 = int(input('Enter Second number:'))\n",
        "\n",
        "# Calculate the sum, difference, product, and quotient\n",
        "sum = num1 + num2\n",
        "diff = num1 - num2\n",
        "prod = num1 * num2\n",
        "quot = num1 / num2\n",
        "\n",
        "# Print the values\n",
        "print(\"The sum of\", num1, \"and\", num2, \"is\", sum)\n",
        "print(\"The difference of\", num1, \"and\", num2, \"is\", diff)\n",
        "print(\"The product of\", num1, \"and\", num2, \"is\", prod)\n",
        "print(\"The quotient of\", num1, \"and\", num2, \"is\", quot)\n"
      ],
      "metadata": {
        "id": "eT-b-CfhMzWJ",
        "colab": {
          "base_uri": "https://localhost:8080/"
        },
        "outputId": "812befc5-790c-4046-ff73-2017a0e2945a"
      },
      "execution_count": null,
      "outputs": [
        {
          "output_type": "stream",
          "name": "stdout",
          "text": [
            "Enter first number:55\n",
            "Enter Second number:67\n",
            "The sum of 55 and 67 is 122\n",
            "The difference of 55 and 67 is -12\n",
            "The product of 55 and 67 is 3685\n",
            "The quotient of 55 and 67 is 0.8208955223880597\n"
          ]
        }
      ]
    },
    {
      "cell_type": "markdown",
      "source": [
        "Write a program that takes a float input from the user and rounds it to the nearest integer."
      ],
      "metadata": {
        "id": "XPwkKeBzMzwy"
      }
    },
    {
      "cell_type": "code",
      "source": [
        "#Getting a float into an integer\n",
        "number = float(input(\"Enter a number \"))\n",
        "rounded = round(number)\n",
        "print(rounded)\n"
      ],
      "metadata": {
        "id": "t0S8Ivy3NEBK",
        "colab": {
          "base_uri": "https://localhost:8080/"
        },
        "outputId": "c2e72129-329b-4fa6-e28f-b82a67d1a7c4"
      },
      "execution_count": null,
      "outputs": [
        {
          "output_type": "stream",
          "name": "stdout",
          "text": [
            "Enter a number 3.879\n",
            "4\n"
          ]
        }
      ]
    },
    {
      "cell_type": "markdown",
      "source": [
        "Write a program that takes a string input from the user and prints out its length."
      ],
      "metadata": {
        "id": "e8xEiTPqNEf7"
      }
    },
    {
      "cell_type": "code",
      "source": [
        "\n",
        "# Get input \n",
        "input_str = input(\"Enter a string: \")\n",
        "\n",
        "# Print the length of the string\n",
        "print(\"Length of the string:\", len(input_str))\n",
        "\n"
      ],
      "metadata": {
        "id": "QNWucVFHNHoD",
        "colab": {
          "base_uri": "https://localhost:8080/"
        },
        "outputId": "5344f0b2-3e52-4c4d-a47a-752d56bf2d64"
      },
      "execution_count": null,
      "outputs": [
        {
          "output_type": "stream",
          "name": "stdout",
          "text": [
            "Enter a string: mukwaya\n",
            "Length of the string: 7\n"
          ]
        }
      ]
    },
    {
      "cell_type": "markdown",
      "source": [
        "Write a program that takes a string input from the user and prints out its first and last characters."
      ],
      "metadata": {
        "id": "Q6uZ4OQbNIZS"
      }
    },
    {
      "cell_type": "code",
      "source": [
        "# Get input\n",
        "input_str = input(\"Enter a string: \")\n",
        "\n",
        "# Get the first and last characters of the string\n",
        "first_char = input_str[0]\n",
        "last_char = input_str[-1]\n",
        "\n",
        "# Print the first and last characters\n",
        "print(\"First character:\", first_char)\n",
        "print(\"Last character:\", last_char)\n"
      ],
      "metadata": {
        "id": "Ks8l4Q9kNL9L",
        "colab": {
          "base_uri": "https://localhost:8080/"
        },
        "outputId": "387231e3-af92-468a-c875-8fa27c7479a8"
      },
      "execution_count": null,
      "outputs": [
        {
          "output_type": "stream",
          "name": "stdout",
          "text": [
            "Enter a string: dare\n",
            "First character: d\n",
            "Last character: e\n"
          ]
        }
      ]
    },
    {
      "cell_type": "markdown",
      "source": [
        "Write a program that takes two string inputs from the user and concatenates them."
      ],
      "metadata": {
        "id": "WCHim8cENMaS"
      }
    },
    {
      "cell_type": "code",
      "source": [
        "# Get inputs \n",
        "string1 = input(\"Enter the first string: \")\n",
        "string2 = input(\"Enter the second string: \")\n",
        "\n",
        "# Concatenate the two strings\n",
        "concatenated_string = string1 +\" \"+ string2\n",
        "\n",
        "# Print the concatenated string\n",
        "print(\"The concatenated string is:\", concatenated_string)\n"
      ],
      "metadata": {
        "id": "khjMlQ8-NPZC",
        "colab": {
          "base_uri": "https://localhost:8080/"
        },
        "outputId": "13b5d59a-3b65-414f-bfc7-acda239cfa89"
      },
      "execution_count": null,
      "outputs": [
        {
          "output_type": "stream",
          "name": "stdout",
          "text": [
            "Enter the first string: arthur\n",
            "Enter the second string: noa\n",
            "The concatenated string is: arthur noa\n"
          ]
        }
      ]
    },
    {
      "cell_type": "markdown",
      "source": [
        "Write a program that takes a string input from the user and prints out each character on a new line."
      ],
      "metadata": {
        "id": "0MHCi7DHNPzK"
      }
    },
    {
      "cell_type": "code",
      "source": [
        "# Get input \n",
        "string = input(\"Enter a string: \")\n",
        "\n",
        "# Print each character on a new line\n",
        "for char in string:\n",
        "    print(char)\n"
      ],
      "metadata": {
        "id": "-BXOi1hyNUYc",
        "colab": {
          "base_uri": "https://localhost:8080/"
        },
        "outputId": "88a38a7d-c13e-49f8-fab6-df5c5315d6d4"
      },
      "execution_count": null,
      "outputs": [
        {
          "output_type": "stream",
          "name": "stdout",
          "text": [
            "Enter a string: arthur\n",
            "a\n",
            "r\n",
            "t\n",
            "h\n",
            "u\n",
            "r\n"
          ]
        }
      ]
    },
    {
      "cell_type": "markdown",
      "source": [
        "Write a program that takes two integer inputs from the user and swaps their values."
      ],
      "metadata": {
        "id": "R9He6vFCNUsa"
      }
    },
    {
      "cell_type": "code",
      "source": [
        "# Get inputs\n",
        "a = int(input(\"Enter first integer: \"))\n",
        "b = int(input(\"Enter second integer: \"))\n",
        "\n",
        "# Swap the values\n",
        "a, b = b, a\n",
        "\n",
        "# Print new values\n",
        "print(\"Swapped values:\")\n",
        "print(\"a =\", a)\n",
        "print(\"b =\", b)\n"
      ],
      "metadata": {
        "id": "Qye59Ltbhw0z",
        "colab": {
          "base_uri": "https://localhost:8080/"
        },
        "outputId": "2396ba95-36d1-4975-84e3-5645763200a0"
      },
      "execution_count": null,
      "outputs": [
        {
          "output_type": "stream",
          "name": "stdout",
          "text": [
            "Enter first integer: 10\n",
            "Enter second integer: 23\n",
            "Swapped values:\n",
            "a = 23\n",
            "b = 10\n"
          ]
        }
      ]
    },
    {
      "cell_type": "markdown",
      "source": [
        "Write a program that takes a string input from the user and converts it to an integer."
      ],
      "metadata": {
        "id": "YXEHiJOxNcLC"
      }
    },
    {
      "cell_type": "code",
      "source": [
        "string_input = input(\"enter a string: \")\n",
        "#convert string to integer\n",
        "integer_output = int(string_input)\n",
        "# print the output\n",
        "print(\"output integer: \", integer_output)\n",
        "\n"
      ],
      "metadata": {
        "id": "Nyu5jmEaNf-k",
        "colab": {
          "base_uri": "https://localhost:8080/"
        },
        "outputId": "9faca29e-53de-41f9-baa3-212719525049"
      },
      "execution_count": null,
      "outputs": [
        {
          "output_type": "stream",
          "name": "stdout",
          "text": [
            "enter a string: 34\n",
            "output integer:  34\n"
          ]
        }
      ]
    },
    {
      "cell_type": "markdown",
      "source": [
        "Write a program that takes a string input from the user and checks if it is a palindrome (i.e., reads the same forwards and backwards)."
      ],
      "metadata": {
        "id": "c2H8oFf-NgTq"
      }
    },
    {
      "cell_type": "code",
      "source": [
        "s = input(\"Enter any word \")\n",
        "reverse = s[::-1] # indexing\n",
        "if(s==reverse):\n",
        "  print(\"yes it is a palindrome \")\n",
        "else:\n",
        "    print(\"no it is not a palindrome \")\n",
        "    "
      ],
      "metadata": {
        "id": "Uf4XGyVMNjT6",
        "colab": {
          "base_uri": "https://localhost:8080/"
        },
        "outputId": "59f1fff2-aa76-43e1-ebf1-63b6ce6b5784"
      },
      "execution_count": null,
      "outputs": [
        {
          "output_type": "stream",
          "name": "stdout",
          "text": [
            "Enter any word wire\n",
            "no it is not a palindrome \n"
          ]
        }
      ]
    },
    {
      "cell_type": "markdown",
      "source": [
        "Write a program that takes two integer inputs from the user and checks if they are equal."
      ],
      "metadata": {
        "id": "p43L90sYNjpy"
      }
    },
    {
      "cell_type": "code",
      "source": [
        "# take integer input\n",
        "int1 = int(input('enter the first integer '))\n",
        "int2 = int(input('enter the second integer '))\n",
        "# check if the integers are equal\n",
        "if int1 == int2:\n",
        "  print ('the integers are equal.')\n",
        "else:\n",
        "  print('The integers are not equal.')"
      ],
      "metadata": {
        "id": "9FnUyjZhNmei",
        "colab": {
          "base_uri": "https://localhost:8080/"
        },
        "outputId": "3411c55a-a8fc-49dd-ba50-4490e77dd3c3"
      },
      "execution_count": null,
      "outputs": [
        {
          "output_type": "stream",
          "name": "stdout",
          "text": [
            "enter the first integer 3\n",
            "enter the second integer 3\n",
            "the integers are equal.\n"
          ]
        }
      ]
    },
    {
      "cell_type": "markdown",
      "source": [
        "Write a program that takes two float inputs from the user and checks if their difference is less than a certain threshold (e.g., 0.0001)."
      ],
      "metadata": {
        "id": "ZuuprAScNqLL"
      }
    },
    {
      "cell_type": "code",
      "source": [
        "# Get two floats\n",
        "a = float(input(\"Enter a float: \"))\n",
        "b = float(input(\"Enter another float: \"))\n",
        "\n",
        "# Check if difference is less than threshold\n",
        "threshold = 0.0001\n",
        "if abs(a - b) < threshold:\n",
        "    print(\"The difference between the floats is less than the threshold.\")\n",
        "else:\n",
        "    print(\"The difference between the floats is greater than or equal to the threshold.\")\n",
        "\n",
        "\n"
      ],
      "metadata": {
        "id": "ta8ZaS34NsiT",
        "colab": {
          "base_uri": "https://localhost:8080/"
        },
        "outputId": "9a10bf6d-7477-48fb-8941-6b93f54c526c"
      },
      "execution_count": null,
      "outputs": [
        {
          "output_type": "stream",
          "name": "stdout",
          "text": [
            "Enter a float: 8\n",
            "Enter another float: 8\n",
            "The difference between the floats is less than the threshold.\n"
          ]
        }
      ]
    },
    {
      "cell_type": "code",
      "source": [
        "def check (a,b):\n",
        "\n",
        "  threshold = 0.0001\n",
        "  dif = a - b\n",
        "\n",
        "  # check if dif is less that threshold\n",
        "  if dif < threshold :\n",
        "    result = 'Yes, its less than.'\n",
        "  else:\n",
        "    result = 'No, its Greater than.'\n",
        "\n",
        "  return result\n",
        "\n",
        "# take input from user\n",
        "int1 = int(input('Enter the first float number'))\n",
        "int2 = int(input('Enter the Second float number'))\n",
        "\n",
        "x = check(int1, int2)\n",
        "\n",
        "print(x)\n"
      ],
      "metadata": {
        "colab": {
          "base_uri": "https://localhost:8080/"
        },
        "id": "nGGoM8H5V5PP",
        "outputId": "24ba7476-5f60-4794-fb11-db8af1446ca9"
      },
      "execution_count": null,
      "outputs": [
        {
          "output_type": "stream",
          "name": "stdout",
          "text": [
            "Enter the first float number10\n",
            "Enter the Second float number5\n",
            "No, its Greater than.\n"
          ]
        }
      ]
    },
    {
      "cell_type": "markdown",
      "source": [
        "Write a program that takes a string input from the user and checks if it contains a certain substring."
      ],
      "metadata": {
        "id": "8PJP2VF_Ns7j"
      }
    },
    {
      "cell_type": "code",
      "source": [
        "string = input('Enter a string')\n",
        "substring = input('Enter a substring to search for')\n",
        "\n",
        "if substring in string:\n",
        "  print( string,'contains substring', substring)\n",
        "\n",
        "else:\n",
        "   print( string,'Does not contain substring', substring)\n"
      ],
      "metadata": {
        "id": "ndlPeGR9NvHa",
        "colab": {
          "base_uri": "https://localhost:8080/"
        },
        "outputId": "1a1c98eb-98a3-43f1-951b-39228874c39f"
      },
      "execution_count": null,
      "outputs": [
        {
          "output_type": "stream",
          "name": "stdout",
          "text": [
            "Enter a stringarthur\n",
            "Enter a substring to search forart\n",
            "arthur contains substring art\n"
          ]
        }
      ]
    },
    {
      "cell_type": "markdown",
      "source": [
        "Write a program that takes two integer inputs from the user and checks if their sum is even."
      ],
      "metadata": {
        "id": "T60nqIoJNvhr"
      }
    },
    {
      "cell_type": "code",
      "source": [
        "\n",
        "num1 = int(input(\"Enter the first integer\")) \n",
        "num2 = int(input(\"Enter the Second integer\")) \n",
        "\n",
        "# Getting sum\n",
        "sum = num1 + num2\n",
        "\n",
        "# check\n",
        "if sum % 2 == 0:\n",
        "  print('The sum of', num1, 'and', num2, 'is even') \n",
        "\n",
        "else:\n",
        "  print('The sum of', num1, 'and', num2, 'is odd') \n"
      ],
      "metadata": {
        "id": "R7ct0p1_OFOj",
        "colab": {
          "base_uri": "https://localhost:8080/"
        },
        "outputId": "c56960da-ef8b-4ebb-e54d-077d0a8edbd7"
      },
      "execution_count": null,
      "outputs": [
        {
          "output_type": "stream",
          "name": "stdout",
          "text": [
            "Enter the first integer34\n",
            "Enter the Second integer21\n",
            "The sum of 34 and 21 is odd\n"
          ]
        }
      ]
    },
    {
      "cell_type": "markdown",
      "source": [],
      "metadata": {
        "id": "Tj0vTgA_wCdg"
      }
    },
    {
      "cell_type": "markdown",
      "source": [
        "**Week 1 Practice**"
      ],
      "metadata": {
        "id": "-89NDCNWZ_92"
      }
    },
    {
      "cell_type": "markdown",
      "source": [
        "Python Programming Practical Exercise:\n",
        "1. Create a GitHub Repository “AI_Modeling_MUK”\n",
        "2. Use Google Colab to write, test your and push your code to your GitHub Repository\n",
        "“AI_Modeling_MUK”.\n",
        "3. Read about Indexing & Object Orient Programming (OOP)\n",
        "4. Deadline for submitting work to your GitHub: 11th May, 2023\n",
        "Task:\n",
        "Define a program that will calculate the area of different shapes based on user input. The program\n",
        "will prompt the user to choose a shape from 'S' for square, 'R' for rectangle, and 'C' for circle.\n",
        "Based on the user's input, the program will prompt the user to enter the relevant dimensions of the\n",
        "selected shape. For square, the program will prompt for the length of the side, for a rectangle, the\n",
        "program will prompt for the length and width of the shape, and for a circle, the program will\n",
        "prompt for the radius.\n",
        "The program will then calculate the area of the selected shape using the relevant formulae.\n",
        "Finally, the program will output the calculated area.\n",
        "The program consists of several functions:\n",
        "calculate_area(shape) - This function takes the shape as input and returns the calculated area\n",
        "based on the selected shape. It calls the relevant function to calculate the area of the shape based\n",
        "on the input.\n",
        "calculate_square_area(side: float) - This function calculates the area of a square based on the\n",
        "given side.\n",
        "calculate_rectangle_area(length: float, width: float) - This function calculates the area of a\n",
        "rectangle based on the given length and width.\n",
        "calculate_circle_area(radius: float) - This function calculates the area of a circle based on the\n",
        "given radius.\n",
        "\n",
        "get_shape_name(tag) - This function returns the name of the selected shape based on the user's\n",
        "input.\n",
        "The program begins by printing a header, prompting the user to select a shape. The user is then\n",
        "prompted to input the relevant dimensions of the selected shape. The program then calls the\n",
        "relevant function to calculate the area of the selected shape and outputs the calculated area."
      ],
      "metadata": {
        "id": "BdHf1erLnUjl"
      }
    },
    {
      "cell_type": "code",
      "source": [
        "# defining the functions to determine the type of shape and get inputs\n",
        "def calculate_area(shape):\n",
        "  if shape == 'S':\n",
        "    side = float(input(\"Enter the length of the side of the square:\"))\n",
        "    return calculate_square_area(side)\n",
        "  elif shape == 'R':\n",
        "    length = float(input(\"Enter the length of the rectangle: \"))\n",
        "    width = float(input(\"Enter the length of the rectangle: \"))\n",
        "    return calculate_rectangle_area(length,width)\n",
        "  elif shape == 'C':\n",
        "    radius = float(input(\"Enter the radius of the circle: \"))\n",
        "    return calculate_circle_area(radius)\n",
        "\n",
        "# defining the functions to calculate the area of shapes\n",
        "def calculate_square_area(side):\n",
        "  return side ** 2\n",
        "def calculate_rectangle_area(length,width):\n",
        "  return length * width\n",
        "def calculate_circle_area(radius):\n",
        "  return 22/7 * radius ** 2\n",
        "\n",
        "# defining the functions to get the name of the shape based on user input\n",
        "def get_shape_name(tag):\n",
        "    if tag == 'S':\n",
        "        return \"square\"\n",
        "    elif tag == 'R':\n",
        "        return \"rectangle\"\n",
        "    elif tag == 'C':\n",
        "        return \"circle\"\n",
        "# User interface\n",
        "print(\"Welcome to Arthur's magic\")\n",
        "shape = input(\"Enter the shape S square, R rectangle, C circle\")\n",
        "area = calculate_area(shape)\n",
        "shape_name = get_shape_name(shape)\n",
        "print(\"The area of the\", shape_name, \"is\", area)\n",
        "\n",
        "\n",
        "\n",
        "\n",
        "\n",
        "\n",
        "\n",
        "  \n",
        "\n",
        "    "
      ],
      "metadata": {
        "id": "UKxsO1vOki21",
        "colab": {
          "base_uri": "https://localhost:8080/"
        },
        "outputId": "55f92587-2def-4fd9-a704-8cc868d86676"
      },
      "execution_count": null,
      "outputs": [
        {
          "output_type": "stream",
          "name": "stdout",
          "text": [
            "Welcome to Arthur's magic\n",
            "Enter the shape S square, R rectangle, C circleC\n",
            "Enter the radius of the circle: 12\n",
            "The area of the circle is 452.57142857142856\n"
          ]
        }
      ]
    }
  ]
}